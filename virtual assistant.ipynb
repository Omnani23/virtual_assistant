{
 "cells": [
  {
   "cell_type": "code",
   "execution_count": 1,
   "id": "547144fe",
   "metadata": {},
   "outputs": [],
   "source": [
    "import requests\n",
    "import pyttsx3\n",
    "import speech_recognition as sr\n",
    "from decouple import config\n",
    "from datetime import datetime\n",
    "from random import choice\n",
    "from pprint import pprint\n",
    "import requests\n",
    "import wikipedia\n",
    "import pywhatkit as kit\n",
    "from email.message import EmailMessage\n",
    "import smtplib\n",
    "import subprocess as sp\n",
    "import pyaudio"
   ]
  },
  {
   "cell_type": "code",
   "execution_count": 2,
   "id": "fa566b4f",
   "metadata": {},
   "outputs": [],
   "source": [
    "import os\n",
    "os.environ['USER'] = 'Om Prakash'\n",
    "os.environ['BOTNAME'] = 'Jarvis'\n",
    "os.environ['NEWS_API_KEY']='a293178fa6494d6ead342137659dcaef'\n",
    "os.environ['EMAIL']='21eg105j25@anurag.edu.in'\n",
    "os.environ['PASSWORD']='nakka@#2304'\n",
    "USERNAME = config('USER')\n",
    "BOTNAME = config('BOTNAME')\n",
    "NEWS_API_KEY = config(\"NEWS_API_KEY\")\n",
    "EMAIL = config(\"EMAIL\")\n",
    "PASSWORD = config(\"PASSWORD\")"
   ]
  },
  {
   "cell_type": "code",
   "execution_count": 3,
   "id": "f7e88b30",
   "metadata": {},
   "outputs": [],
   "source": [
    "engine = pyttsx3.init('sapi5')\n",
    "engine.setProperty('rate', 190)\n",
    "engine.setProperty('volume', 1.0)\n",
    "voices = engine.getProperty('voices')\n",
    "engine.setProperty('voice', voices[0].id)"
   ]
  },
  {
   "cell_type": "code",
   "execution_count": 4,
   "id": "79d3d59b",
   "metadata": {},
   "outputs": [],
   "source": [
    "def speak(text):\n",
    "    engine.say(text)\n",
    "    engine.runAndWait()"
   ]
  },
  {
   "cell_type": "code",
   "execution_count": 5,
   "id": "08fd80f7",
   "metadata": {},
   "outputs": [],
   "source": [
    "def greet_user():\n",
    "    hour = datetime.now().hour\n",
    "    if (hour >= 6) and (hour < 12):\n",
    "        speak(f\"Good Morning {USERNAME}\")\n",
    "    elif (hour >= 12) and (hour < 16):\n",
    "        speak(f\"Good afternoon {USERNAME}\")\n",
    "    elif (hour >= 16) and (hour < 19):\n",
    "        speak(f\"Good Evening {USERNAME}\")\n",
    "    speak(f\"I am {BOTNAME}. How may I assist you?\")"
   ]
  },
  {
   "cell_type": "code",
   "execution_count": 6,
   "id": "0d62ac6c",
   "metadata": {},
   "outputs": [],
   "source": [
    "def take_user_input():\n",
    "    r = sr.Recognizer()\n",
    "    with sr.Microphone() as source:\n",
    "        print('Listening....')\n",
    "        r.pause_threshold = 1\n",
    "        audio = r.listen(source)\n",
    "    try:\n",
    "        print('Recognizing...')\n",
    "        query = r.recognize_google(audio, language='en-in')\n",
    "        if not 'exit' in query or 'stop' in query:\n",
    "            speak(choice(opening_text))\n",
    "        else:\n",
    "            hour = datetime.now().hour\n",
    "            if hour >= 21 and hour < 6:\n",
    "                speak(\"Good night sir, take care!\")\n",
    "            else:\n",
    "                speak('Have a good day sir!')\n",
    "            exit()\n",
    "    except Exception:\n",
    "        speak('Sorry, I could not understand. Could you please say that again?')\n",
    "        query = 'None'\n",
    "    return query"
   ]
  },
  {
   "cell_type": "code",
   "execution_count": 7,
   "id": "2b45d17c",
   "metadata": {},
   "outputs": [],
   "source": [
    "def find_my_ip():\n",
    "    ip_address = requests.get('https://api64.ipify.org?format=json').json()\n",
    "    return ip_address[\"ip\"]"
   ]
  },
  {
   "cell_type": "code",
   "execution_count": 8,
   "id": "dcc0747c",
   "metadata": {},
   "outputs": [],
   "source": [
    "def search_on_wikipedia(query):\n",
    "    results = wikipedia.summary(query, sentences=2)\n",
    "    return results"
   ]
  },
  {
   "cell_type": "code",
   "execution_count": 9,
   "id": "3fc20f7e",
   "metadata": {},
   "outputs": [],
   "source": [
    "def play_on_youtube(video):\n",
    "    kit.playonyt(video)"
   ]
  },
  {
   "cell_type": "code",
   "execution_count": 10,
   "id": "3f619b92",
   "metadata": {},
   "outputs": [],
   "source": [
    "def search_on_google(query):\n",
    "    kit.search(query)\n"
   ]
  },
  {
   "cell_type": "code",
   "execution_count": 11,
   "id": "634be4b7",
   "metadata": {},
   "outputs": [],
   "source": [
    "def send_whatsapp_message(number, message):\n",
    "    kit.sendwhatmsg_instantly(f\"+91{number}\", message)"
   ]
  },
  {
   "cell_type": "code",
   "execution_count": 12,
   "id": "e5d423ee",
   "metadata": {},
   "outputs": [],
   "source": [
    "def send_email(receiver_address, subject, message):\n",
    "    try:\n",
    "        email = EmailMessage()\n",
    "        email['To'] = receiver_address\n",
    "        email[\"Subject\"] = subject\n",
    "        email['From'] = EMAIL\n",
    "        email.set_content(message)\n",
    "        s = smtplib.SMTP(\"smtp.gmail.com\", 587)\n",
    "        s.starttls()\n",
    "        s.login(EMAIL, PASSWORD)\n",
    "        s.send_message(email)\n",
    "        s.close()\n",
    "        return True\n",
    "    except Exception as e:\n",
    "        print(e)\n",
    "        return False\n"
   ]
  },
  {
   "cell_type": "code",
   "execution_count": 13,
   "id": "2fbe6f5f",
   "metadata": {},
   "outputs": [],
   "source": [
    "def get_latest_news():\n",
    "    news_headlines = []\n",
    "    res = requests.get(\n",
    "        f\"https://newsapi.org/v2/top-headlines?country=in&apiKey={NEWS_API_KEY}&category=general\").json()\n",
    "    articles = res[\"articles\"]\n",
    "    for article in articles:\n",
    "        news_headlines.append(article[\"title\"])\n",
    "    return news_headlines[:5]"
   ]
  },
  {
   "cell_type": "code",
   "execution_count": 14,
   "id": "dd12d4e2",
   "metadata": {},
   "outputs": [],
   "source": [
    "def get_random_joke():\n",
    "    headers = {\n",
    "        'Accept': 'application/json'\n",
    "    }\n",
    "    res = requests.get(\"https://icanhazdadjoke.com/\", headers=headers).json()\n",
    "    return res[\"joke\"]"
   ]
  },
  {
   "cell_type": "code",
   "execution_count": 15,
   "id": "8b7c259b",
   "metadata": {},
   "outputs": [],
   "source": [
    "def get_random_advice():\n",
    "    res = requests.get(\"https://api.adviceslip.com/advice\").json()\n",
    "    return res['slip']['advice']"
   ]
  },
  {
   "cell_type": "code",
   "execution_count": 16,
   "id": "f457e5e9",
   "metadata": {},
   "outputs": [],
   "source": [
    "paths = {\n",
    "    'notepad': \"C:\\\\Users\\\\nakka\\\\OneDrive\\\\Desktop\\\\Notepad - Shortcut.lnk\",\n",
    "}"
   ]
  },
  {
   "cell_type": "code",
   "execution_count": 17,
   "id": "8aee3e5a",
   "metadata": {},
   "outputs": [],
   "source": [
    "def open_notepad():\n",
    "    os.startfile(paths['notepad'])"
   ]
  },
  {
   "cell_type": "code",
   "execution_count": 18,
   "id": "eb4e875d",
   "metadata": {},
   "outputs": [],
   "source": [
    "def open_cmd():\n",
    "    os.system('start cmd')"
   ]
  },
  {
   "cell_type": "code",
   "execution_count": 19,
   "id": "59c835c0",
   "metadata": {},
   "outputs": [],
   "source": [
    "def open_camera():\n",
    "    sp.run('start microsoft.windows.camera:', shell=True)"
   ]
  },
  {
   "cell_type": "code",
   "execution_count": 20,
   "id": "1fc92392",
   "metadata": {},
   "outputs": [],
   "source": [
    "def open_calculator():\n",
    "    os.system('start calc')"
   ]
  },
  {
   "cell_type": "code",
   "execution_count": 22,
   "id": "1f276372",
   "metadata": {},
   "outputs": [
    {
     "name": "stdout",
     "output_type": "stream",
     "text": [
      "Listening....\n",
      "Recognizing...\n",
      "Listening....\n",
      "Recognizing...\n"
     ]
    },
    {
     "ename": "KeyboardInterrupt",
     "evalue": "",
     "output_type": "error",
     "traceback": [
      "\u001b[1;31m---------------------------------------------------------------------------\u001b[0m",
      "\u001b[1;31mKeyboardInterrupt\u001b[0m                         Traceback (most recent call last)",
      "Input \u001b[1;32mIn [22]\u001b[0m, in \u001b[0;36m<cell line: 1>\u001b[1;34m()\u001b[0m\n\u001b[0;32m      2\u001b[0m greet_user()\n\u001b[0;32m      3\u001b[0m \u001b[38;5;28;01mwhile\u001b[39;00m \u001b[38;5;28;01mTrue\u001b[39;00m:\n\u001b[1;32m----> 4\u001b[0m     query \u001b[38;5;241m=\u001b[39m \u001b[43mtake_user_input\u001b[49m\u001b[43m(\u001b[49m\u001b[43m)\u001b[49m\u001b[38;5;241m.\u001b[39mlower()\n\u001b[0;32m      6\u001b[0m     \u001b[38;5;28;01mif\u001b[39;00m \u001b[38;5;124m'\u001b[39m\u001b[38;5;124mopen notepad\u001b[39m\u001b[38;5;124m'\u001b[39m \u001b[38;5;129;01min\u001b[39;00m query:\n\u001b[0;32m      7\u001b[0m         open_notepad()\n",
      "Input \u001b[1;32mIn [6]\u001b[0m, in \u001b[0;36mtake_user_input\u001b[1;34m()\u001b[0m\n\u001b[0;32m      7\u001b[0m \u001b[38;5;28;01mtry\u001b[39;00m:\n\u001b[0;32m      8\u001b[0m     \u001b[38;5;28mprint\u001b[39m(\u001b[38;5;124m'\u001b[39m\u001b[38;5;124mRecognizing...\u001b[39m\u001b[38;5;124m'\u001b[39m)\n\u001b[1;32m----> 9\u001b[0m     query \u001b[38;5;241m=\u001b[39m \u001b[43mr\u001b[49m\u001b[38;5;241;43m.\u001b[39;49m\u001b[43mrecognize_google\u001b[49m\u001b[43m(\u001b[49m\u001b[43maudio\u001b[49m\u001b[43m,\u001b[49m\u001b[43m \u001b[49m\u001b[43mlanguage\u001b[49m\u001b[38;5;241;43m=\u001b[39;49m\u001b[38;5;124;43m'\u001b[39;49m\u001b[38;5;124;43men-in\u001b[39;49m\u001b[38;5;124;43m'\u001b[39;49m\u001b[43m)\u001b[49m\n\u001b[0;32m     10\u001b[0m     \u001b[38;5;28;01mif\u001b[39;00m \u001b[38;5;129;01mnot\u001b[39;00m \u001b[38;5;124m'\u001b[39m\u001b[38;5;124mexit\u001b[39m\u001b[38;5;124m'\u001b[39m \u001b[38;5;129;01min\u001b[39;00m query \u001b[38;5;129;01mor\u001b[39;00m \u001b[38;5;124m'\u001b[39m\u001b[38;5;124mstop\u001b[39m\u001b[38;5;124m'\u001b[39m \u001b[38;5;129;01min\u001b[39;00m query:\n\u001b[0;32m     11\u001b[0m         speak(choice(opening_text))\n",
      "File \u001b[1;32m~\\AppData\\Local\\Programs\\Python\\Python310\\lib\\site-packages\\speech_recognition\\recognizers\\google.py:244\u001b[0m, in \u001b[0;36mrecognize_legacy\u001b[1;34m(recognizer, audio_data, key, language, pfilter, show_all, with_confidence)\u001b[0m\n\u001b[0;32m    239\u001b[0m request_builder \u001b[38;5;241m=\u001b[39m create_request_builder(\n\u001b[0;32m    240\u001b[0m     key\u001b[38;5;241m=\u001b[39mkey, language\u001b[38;5;241m=\u001b[39mlanguage, filter_level\u001b[38;5;241m=\u001b[39mpfilter\n\u001b[0;32m    241\u001b[0m )\n\u001b[0;32m    242\u001b[0m request \u001b[38;5;241m=\u001b[39m request_builder\u001b[38;5;241m.\u001b[39mbuild(audio_data)\n\u001b[1;32m--> 244\u001b[0m response_text \u001b[38;5;241m=\u001b[39m \u001b[43mobtain_transcription\u001b[49m\u001b[43m(\u001b[49m\n\u001b[0;32m    245\u001b[0m \u001b[43m    \u001b[49m\u001b[43mrequest\u001b[49m\u001b[43m,\u001b[49m\u001b[43m \u001b[49m\u001b[43mtimeout\u001b[49m\u001b[38;5;241;43m=\u001b[39;49m\u001b[43mrecognizer\u001b[49m\u001b[38;5;241;43m.\u001b[39;49m\u001b[43moperation_timeout\u001b[49m\n\u001b[0;32m    246\u001b[0m \u001b[43m\u001b[49m\u001b[43m)\u001b[49m\n\u001b[0;32m    248\u001b[0m output_parser \u001b[38;5;241m=\u001b[39m OutputParser(\n\u001b[0;32m    249\u001b[0m     show_all\u001b[38;5;241m=\u001b[39mshow_all, with_confidence\u001b[38;5;241m=\u001b[39mwith_confidence\n\u001b[0;32m    250\u001b[0m )\n\u001b[0;32m    251\u001b[0m \u001b[38;5;28;01mreturn\u001b[39;00m output_parser\u001b[38;5;241m.\u001b[39mparse(response_text)\n",
      "File \u001b[1;32m~\\AppData\\Local\\Programs\\Python\\Python310\\lib\\site-packages\\speech_recognition\\recognizers\\google.py:212\u001b[0m, in \u001b[0;36mobtain_transcription\u001b[1;34m(request, timeout)\u001b[0m\n\u001b[0;32m    208\u001b[0m \u001b[38;5;28;01mexcept\u001b[39;00m URLError \u001b[38;5;28;01mas\u001b[39;00m e:\n\u001b[0;32m    209\u001b[0m     \u001b[38;5;28;01mraise\u001b[39;00m RequestError(\n\u001b[0;32m    210\u001b[0m         \u001b[38;5;124m\"\u001b[39m\u001b[38;5;124mrecognition connection failed: \u001b[39m\u001b[38;5;132;01m{}\u001b[39;00m\u001b[38;5;124m\"\u001b[39m\u001b[38;5;241m.\u001b[39mformat(e\u001b[38;5;241m.\u001b[39mreason)\n\u001b[0;32m    211\u001b[0m     )\n\u001b[1;32m--> 212\u001b[0m \u001b[38;5;28;01mreturn\u001b[39;00m \u001b[43mresponse\u001b[49m\u001b[38;5;241;43m.\u001b[39;49m\u001b[43mread\u001b[49m\u001b[43m(\u001b[49m\u001b[43m)\u001b[49m\u001b[38;5;241m.\u001b[39mdecode(\u001b[38;5;124m\"\u001b[39m\u001b[38;5;124mutf-8\u001b[39m\u001b[38;5;124m\"\u001b[39m)\n",
      "File \u001b[1;32m~\\AppData\\Local\\Programs\\Python\\Python310\\lib\\http\\client.py:460\u001b[0m, in \u001b[0;36mHTTPResponse.read\u001b[1;34m(self, amt)\u001b[0m\n\u001b[0;32m    457\u001b[0m     \u001b[38;5;28;01mreturn\u001b[39;00m \u001b[38;5;124mb\u001b[39m\u001b[38;5;124m\"\u001b[39m\u001b[38;5;124m\"\u001b[39m\n\u001b[0;32m    459\u001b[0m \u001b[38;5;28;01mif\u001b[39;00m \u001b[38;5;28mself\u001b[39m\u001b[38;5;241m.\u001b[39mchunked:\n\u001b[1;32m--> 460\u001b[0m     \u001b[38;5;28;01mreturn\u001b[39;00m \u001b[38;5;28;43mself\u001b[39;49m\u001b[38;5;241;43m.\u001b[39;49m\u001b[43m_read_chunked\u001b[49m\u001b[43m(\u001b[49m\u001b[43mamt\u001b[49m\u001b[43m)\u001b[49m\n\u001b[0;32m    462\u001b[0m \u001b[38;5;28;01mif\u001b[39;00m amt \u001b[38;5;129;01mis\u001b[39;00m \u001b[38;5;129;01mnot\u001b[39;00m \u001b[38;5;28;01mNone\u001b[39;00m:\n\u001b[0;32m    463\u001b[0m     \u001b[38;5;28;01mif\u001b[39;00m \u001b[38;5;28mself\u001b[39m\u001b[38;5;241m.\u001b[39mlength \u001b[38;5;129;01mis\u001b[39;00m \u001b[38;5;129;01mnot\u001b[39;00m \u001b[38;5;28;01mNone\u001b[39;00m \u001b[38;5;129;01mand\u001b[39;00m amt \u001b[38;5;241m>\u001b[39m \u001b[38;5;28mself\u001b[39m\u001b[38;5;241m.\u001b[39mlength:\n\u001b[0;32m    464\u001b[0m         \u001b[38;5;66;03m# clip the read to the \"end of response\"\u001b[39;00m\n",
      "File \u001b[1;32m~\\AppData\\Local\\Programs\\Python\\Python310\\lib\\http\\client.py:583\u001b[0m, in \u001b[0;36mHTTPResponse._read_chunked\u001b[1;34m(self, amt)\u001b[0m\n\u001b[0;32m    581\u001b[0m \u001b[38;5;28;01mtry\u001b[39;00m:\n\u001b[0;32m    582\u001b[0m     \u001b[38;5;28;01mwhile\u001b[39;00m \u001b[38;5;28;01mTrue\u001b[39;00m:\n\u001b[1;32m--> 583\u001b[0m         chunk_left \u001b[38;5;241m=\u001b[39m \u001b[38;5;28;43mself\u001b[39;49m\u001b[38;5;241;43m.\u001b[39;49m\u001b[43m_get_chunk_left\u001b[49m\u001b[43m(\u001b[49m\u001b[43m)\u001b[49m\n\u001b[0;32m    584\u001b[0m         \u001b[38;5;28;01mif\u001b[39;00m chunk_left \u001b[38;5;129;01mis\u001b[39;00m \u001b[38;5;28;01mNone\u001b[39;00m:\n\u001b[0;32m    585\u001b[0m             \u001b[38;5;28;01mbreak\u001b[39;00m\n",
      "File \u001b[1;32m~\\AppData\\Local\\Programs\\Python\\Python310\\lib\\http\\client.py:566\u001b[0m, in \u001b[0;36mHTTPResponse._get_chunk_left\u001b[1;34m(self)\u001b[0m\n\u001b[0;32m    564\u001b[0m     \u001b[38;5;28mself\u001b[39m\u001b[38;5;241m.\u001b[39m_safe_read(\u001b[38;5;241m2\u001b[39m)  \u001b[38;5;66;03m# toss the CRLF at the end of the chunk\u001b[39;00m\n\u001b[0;32m    565\u001b[0m \u001b[38;5;28;01mtry\u001b[39;00m:\n\u001b[1;32m--> 566\u001b[0m     chunk_left \u001b[38;5;241m=\u001b[39m \u001b[38;5;28;43mself\u001b[39;49m\u001b[38;5;241;43m.\u001b[39;49m\u001b[43m_read_next_chunk_size\u001b[49m\u001b[43m(\u001b[49m\u001b[43m)\u001b[49m\n\u001b[0;32m    567\u001b[0m \u001b[38;5;28;01mexcept\u001b[39;00m \u001b[38;5;167;01mValueError\u001b[39;00m:\n\u001b[0;32m    568\u001b[0m     \u001b[38;5;28;01mraise\u001b[39;00m IncompleteRead(\u001b[38;5;124mb\u001b[39m\u001b[38;5;124m'\u001b[39m\u001b[38;5;124m'\u001b[39m)\n",
      "File \u001b[1;32m~\\AppData\\Local\\Programs\\Python\\Python310\\lib\\http\\client.py:526\u001b[0m, in \u001b[0;36mHTTPResponse._read_next_chunk_size\u001b[1;34m(self)\u001b[0m\n\u001b[0;32m    524\u001b[0m \u001b[38;5;28;01mdef\u001b[39;00m \u001b[38;5;21m_read_next_chunk_size\u001b[39m(\u001b[38;5;28mself\u001b[39m):\n\u001b[0;32m    525\u001b[0m     \u001b[38;5;66;03m# Read the next chunk size from the file\u001b[39;00m\n\u001b[1;32m--> 526\u001b[0m     line \u001b[38;5;241m=\u001b[39m \u001b[38;5;28;43mself\u001b[39;49m\u001b[38;5;241;43m.\u001b[39;49m\u001b[43mfp\u001b[49m\u001b[38;5;241;43m.\u001b[39;49m\u001b[43mreadline\u001b[49m\u001b[43m(\u001b[49m\u001b[43m_MAXLINE\u001b[49m\u001b[43m \u001b[49m\u001b[38;5;241;43m+\u001b[39;49m\u001b[43m \u001b[49m\u001b[38;5;241;43m1\u001b[39;49m\u001b[43m)\u001b[49m\n\u001b[0;32m    527\u001b[0m     \u001b[38;5;28;01mif\u001b[39;00m \u001b[38;5;28mlen\u001b[39m(line) \u001b[38;5;241m>\u001b[39m _MAXLINE:\n\u001b[0;32m    528\u001b[0m         \u001b[38;5;28;01mraise\u001b[39;00m LineTooLong(\u001b[38;5;124m\"\u001b[39m\u001b[38;5;124mchunk size\u001b[39m\u001b[38;5;124m\"\u001b[39m)\n",
      "File \u001b[1;32m~\\AppData\\Local\\Programs\\Python\\Python310\\lib\\socket.py:705\u001b[0m, in \u001b[0;36mSocketIO.readinto\u001b[1;34m(self, b)\u001b[0m\n\u001b[0;32m    703\u001b[0m \u001b[38;5;28;01mwhile\u001b[39;00m \u001b[38;5;28;01mTrue\u001b[39;00m:\n\u001b[0;32m    704\u001b[0m     \u001b[38;5;28;01mtry\u001b[39;00m:\n\u001b[1;32m--> 705\u001b[0m         \u001b[38;5;28;01mreturn\u001b[39;00m \u001b[38;5;28;43mself\u001b[39;49m\u001b[38;5;241;43m.\u001b[39;49m\u001b[43m_sock\u001b[49m\u001b[38;5;241;43m.\u001b[39;49m\u001b[43mrecv_into\u001b[49m\u001b[43m(\u001b[49m\u001b[43mb\u001b[49m\u001b[43m)\u001b[49m\n\u001b[0;32m    706\u001b[0m     \u001b[38;5;28;01mexcept\u001b[39;00m timeout:\n\u001b[0;32m    707\u001b[0m         \u001b[38;5;28mself\u001b[39m\u001b[38;5;241m.\u001b[39m_timeout_occurred \u001b[38;5;241m=\u001b[39m \u001b[38;5;28;01mTrue\u001b[39;00m\n",
      "\u001b[1;31mKeyboardInterrupt\u001b[0m: "
     ]
    }
   ],
   "source": [
    "if __name__ == '__main__':\n",
    "    greet_user()\n",
    "    while True:\n",
    "        query = take_user_input().lower()\n",
    "\n",
    "        if 'open notepad' in query:\n",
    "            open_notepad()\n",
    "\n",
    "        elif 'open command prompt' in query or 'open cmd' in query:\n",
    "            open_cmd()\n",
    "\n",
    "        elif 'open camera' in query:\n",
    "            open_camera()\n",
    "\n",
    "        elif 'open calculator' in query:\n",
    "            open_calculator()\n",
    "\n",
    "        elif 'ip address' in query:\n",
    "            ip_address = find_my_ip()\n",
    "            speak(f'Your IP Address is {ip_address}.\\n For your convenience, I am printing it on the screen sir.')\n",
    "            print(f'Your IP Address is {ip_address}')\n",
    "\n",
    "        elif 'wikipedia' in query:\n",
    "            speak('What do you want to search on Wikipedia, sir?')\n",
    "            search_query = take_user_input().lower()\n",
    "            results = search_on_wikipedia(search_query)\n",
    "            speak(f\"According to Wikipedia, {results}\")\n",
    "            speak(\"For your convenience, I am printing it on the screen sir.\")\n",
    "            print(results)\n",
    "\n",
    "        elif 'youtube' in query:\n",
    "            speak('What do you want to play on Youtube, sir?')\n",
    "            video = take_user_input().lower()\n",
    "            play_on_youtube(video)\n",
    "\n",
    "        elif 'search on google' in query:\n",
    "            speak('What do you want to search on Google, sir?')\n",
    "            query = take_user_input().lower()\n",
    "            search_on_google(query)\n",
    "\n",
    "        elif \"send whatsapp message\" in query:\n",
    "            speak(\n",
    "                'On what number should I send the message sir? Please enter in the console: ')\n",
    "            number = input(\"Enter the number: \")\n",
    "            speak(\"What is the message sir?\")\n",
    "            message = take_user_input().lower()\n",
    "            send_whatsapp_message(number, message)\n",
    "            speak(\"I've sent the message sir.\")\n",
    "\n",
    "        elif \"send an email\" in query:\n",
    "            speak(\"On what email address do I send sir? Please enter in the console: \")\n",
    "            receiver_address = input(\"Enter email address: \")\n",
    "            speak(\"What should be the subject sir?\")\n",
    "            subject = take_user_input().capitalize()\n",
    "            speak(\"What is the message sir?\")\n",
    "            message = take_user_input().capitalize()\n",
    "            if send_email(receiver_address, subject, message):\n",
    "                speak(\"I've sent the email sir.\")\n",
    "            else:\n",
    "                speak(\"Something went wrong while I was sending the mail. Please check the error logs sir.\")\n",
    "\n",
    "        elif 'joke' in query:\n",
    "            speak(f\"Hope you like this one sir\")\n",
    "            joke = get_random_joke()\n",
    "            speak(joke)\n",
    "            speak(\"For your convenience, I am printing it on the screen sir.\")\n",
    "            pprint(joke)\n",
    "\n",
    "        elif \"advice\" in query:\n",
    "            speak(f\"Here's an advice for you, sir\")\n",
    "            advice = get_random_advice()\n",
    "            speak(advice)\n",
    "            speak(\"For your convenience, I am printing it on the screen sir.\")\n",
    "            pprint(advice)\n",
    "\n",
    "        elif 'news' in query:\n",
    "            speak(f\"I'm reading out the latest news headlines, sir\")\n",
    "            speak(get_latest_news())\n",
    "            speak(\"For your convenience, I am printing it on the screen sir.\")\n",
    "            print(*get_latest_news(), sep='\\n')\n",
    "            \n",
    "        elif 'im done' in query:\n",
    "            break\n"
   ]
  },
  {
   "cell_type": "code",
   "execution_count": null,
   "id": "edf95e56",
   "metadata": {},
   "outputs": [],
   "source": []
  }
 ],
 "metadata": {
  "kernelspec": {
   "display_name": "Python 3 (ipykernel)",
   "language": "python",
   "name": "python3"
  },
  "language_info": {
   "codemirror_mode": {
    "name": "ipython",
    "version": 3
   },
   "file_extension": ".py",
   "mimetype": "text/x-python",
   "name": "python",
   "nbconvert_exporter": "python",
   "pygments_lexer": "ipython3",
   "version": "3.10.11"
  }
 },
 "nbformat": 4,
 "nbformat_minor": 5
}
